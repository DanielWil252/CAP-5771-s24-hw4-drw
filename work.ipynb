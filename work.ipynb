{
 "cells": [
  {
   "cell_type": "markdown",
   "metadata": {},
   "source": [
    "## Work for Question 8."
   ]
  },
  {
   "cell_type": "code",
   "execution_count": 25,
   "metadata": {},
   "outputs": [
    {
     "name": "stdout",
     "output_type": "stream",
     "text": [
      "Total x1 probability: 0.65 total x2 probability: 0.41\n",
      "total intersect probability: 0.28\n",
      "Are the positives independent: True\n",
      "Are the negatives independent: True\n",
      "0.8 0.5 0.5 0.32 0.4 0.4\n",
      "[1, 1, -1, -1] 0.0\n"
     ]
    }
   ],
   "source": [
    "import numpy as np\n",
    "data = np.array([\n",
    "    [1, 1, 1, 20, 8],   # X1, X2, X3, Positives, Negatives\n",
    "    [1, 0, 0, 20, 17],\n",
    "    [0, 1, 0, 5, 8],\n",
    "    [0, 0, 0, 5, 17]\n",
    "])\n",
    "\n",
    "\n",
    "\n",
    "total_positives = data[:,3].sum()\n",
    "total_negatives = data[:,4].sum()\n",
    "total = total_positives + total_negatives\n",
    "\n",
    "x1_positive_probability = data[0:2,3].sum()/total_positives\n",
    "x1_negative_probability = data[0:2,4].sum()/total_negatives\n",
    "total_x1_probability = (data[0:2, 3].sum() + data[0:2, 4].sum())/total\n",
    "\n",
    "x2_positive_probability = data[[0,2],3].sum()/total_positives\n",
    "x2_negative_probability = data[[0,2],4].sum()/total_negatives\n",
    "total_x2_probability = (data[[0, 2], 3].sum() + data[[0, 2], 4].sum())/total\n",
    "\n",
    "print(f\"Total x1 probability: {total_x1_probability} total x2 probability: {total_x2_probability}\")\n",
    "# Intersect probabilities for x1 and x2\n",
    "\n",
    "intersect_positive = data[0,3]/total_positives\n",
    "intersect_negative = data[0,4]/total_negatives\n",
    "intersect_total = (data[0,3] + data[0,4])/total\n",
    "\n",
    "print(f\"total intersect probability: {intersect_total}\")\n",
    "# Are they independent?\n",
    "\n",
    "\n",
    "print(f\"Are the positives independent: {np.isclose(intersect_positive,x1_positive_probability*x2_positive_probability)}\")\n",
    "print(f\"Are the negatives independent: {np.isclose(intersect_negative,x1_negative_probability*x2_negative_probability)}\")\n",
    "#true and true.\n",
    "\n",
    "# Conditional class probabilities:\n",
    "\n",
    "conditional_x1_positive = (data[0][3] + data[1][3])/total_positives\n",
    "conditional_x1_negative = (data[0][4] + data[1][4])/total_negatives\n",
    "\n",
    "conditional_x2_positive = (data[0][3] + data[2][3])/total_positives\n",
    "conditional_x2_negative = (data[0][4] + data[2][4])/total_negatives\n",
    "\n",
    "conditional_x3_positive = data[0][3]/total_positives\n",
    "conditional_x3_negative = data[0][3]/total_negatives\n",
    "\n",
    "print(conditional_x1_positive,conditional_x1_negative,conditional_x2_positive,conditional_x2_negative,conditional_x3_positive,conditional_x3_negative)\n",
    "\n",
    "# functions to predict.\n",
    "\n",
    "def likelihood(set,x1,x2,x3,prior):\n",
    "    return (x1 if set[0] == 1 else (1-x1))*(x2 if set[1] == 1 else (1-x2))*(x3 if set[2] == 1 else (1-x3))*prior\n",
    "\n",
    "# calculate priors; run predictions.\n",
    "predictions = []\n",
    "error = 0\n",
    "prior_positive = total_positives/total\n",
    "prior_negative = total_negatives/total\n",
    "\n",
    "for item in data:\n",
    "    positive_likelihood = likelihood(item[:3],conditional_x1_positive,conditional_x2_positive,conditional_x3_positive,prior_positive)\n",
    "    negative_likelihood = likelihood(item[:3],conditional_x1_negative,conditional_x2_negative,conditional_x3_negative,prior_negative)\n",
    "\n",
    "    predicted_class = 1 if positive_likelihood > negative_likelihood else -1\n",
    "    predictions.append(predicted_class)\n",
    "\n",
    "    #check for error.\n",
    "\n",
    "    true_class = 1 if item[3] > item[4] else -1\n",
    "\n",
    "    if predicted_class != true_class:\n",
    "        error += 1\n",
    "    \n",
    "# calculate training error.\n",
    "\n",
    "training_error = error/len(data)\n",
    "\n",
    "print(predictions,training_error)"
   ]
  },
  {
   "cell_type": "markdown",
   "metadata": {},
   "source": [
    "## Question 10 Work"
   ]
  },
  {
   "cell_type": "code",
   "execution_count": 30,
   "metadata": {},
   "outputs": [
    {
     "name": "stdout",
     "output_type": "stream",
     "text": [
      "positive posterior: 0.8 negative posterior: 0.2\n",
      "+\n",
      "P(R|+): 0.192 P(R|-): 0.048\n"
     ]
    }
   ],
   "source": [
    "# Conditional Probabilities\n",
    "\n",
    "conditional_A_positive = 3/5\n",
    "conditional_A_negative = 2/5\n",
    "\n",
    "conditional_B_positive = 2/5\n",
    "conditional_B_negative = 3/5\n",
    "\n",
    "conditional_C_positive = 4/5\n",
    "conditional_C_negative = 1/5\n",
    "\n",
    "# Test Sample\n",
    "\n",
    "test_sample = {'A':1,'B':1,'C':1}\n",
    "\n",
    "\n",
    "\n",
    "#use previous likelihood to perform naive-bayes.\n",
    "\n",
    "prior_negative = 0.5\n",
    "prior_positive = 0.5\n",
    "\n",
    "\n",
    "posterior_positive = (conditional_A_positive*conditional_B_positive*conditional_C_positive*prior_positive)\n",
    "posterior_negative = (conditional_A_negative*conditional_B_negative*conditional_C_negative*prior_negative)\n",
    "\n",
    "#normalize.\n",
    "normalize_factor = (posterior_positive+posterior_negative)\n",
    "posterior_positive = posterior_positive/normalize_factor\n",
    "posterior_negative = posterior_negative/normalize_factor\n",
    "print(f\"positive posterior: {posterior_positive} negative posterior: {posterior_negative}\")\n",
    "\n",
    "print('+' if posterior_positive>posterior_negative else '-')\n",
    "\n",
    "print(f\"P(R|+): {(conditional_A_positive*conditional_B_positive*conditional_C_positive)} P(R|-): {(conditional_A_negative*conditional_B_negative*conditional_C_negative)}\")"
   ]
  }
 ],
 "metadata": {
  "kernelspec": {
   "display_name": "Python 3",
   "language": "python",
   "name": "python3"
  },
  "language_info": {
   "codemirror_mode": {
    "name": "ipython",
    "version": 3
   },
   "file_extension": ".py",
   "mimetype": "text/x-python",
   "name": "python",
   "nbconvert_exporter": "python",
   "pygments_lexer": "ipython3",
   "version": "3.12.1"
  }
 },
 "nbformat": 4,
 "nbformat_minor": 2
}
